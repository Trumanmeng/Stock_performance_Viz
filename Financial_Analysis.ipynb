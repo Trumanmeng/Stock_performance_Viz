{
 "cells": [
  {
   "cell_type": "code",
   "execution_count": 1,
   "metadata": {},
   "outputs": [],
   "source": [
    "import pandas as pd\n",
    "import numpy as np\n",
    "import matplotlib.pyplot as plt"
   ]
  },
  {
   "cell_type": "code",
   "execution_count": 2,
   "metadata": {},
   "outputs": [],
   "source": [
    "cn_roe_data=pd.read_excel(\"C:/Users/suzuha/Desktop/CN_ROE_data.xlsx\",index_col=0,sheet_name=\"roe\")\n",
    "us_roe_data=pd.read_excel(\"C:/Users/suzuha/Desktop/US_ROE_data.xlsx\",index_col=0)\n",
    "cn_stk_price=pd.read_excel(\"C:/Users/suzuha/Desktop/CN_ROE_data.xlsx\",index_col=0,sheet_name=\"price\")\n",
    "cn_stk_return=pd.read_excel(\"C:/Users/suzuha/Desktop/CN_ROE_data.xlsx\",index_col=0,sheet_name=\"return\")\n",
    "shci_return=pd.read_excel(\"C:/Users/suzuha/Desktop/CN_ROE_data.xlsx\",index_col=0,sheet_name=\"shci\")\n",
    "cn_stk_mkt=pd.read_excel(\"C:/Users/suzuha/Desktop/CN_ROE_data.xlsx\",index_col=0,sheet_name=\"mktsize\")\n",
    "cn_ashare_mkt=pd.read_excel(\"C:/Users/suzuha/Desktop/CN_ROE_data.xlsx\",index_col=0,sheet_name=\"amktsize\")\n",
    "accrual=pd.read_excel(\"C:/Users/suzuha/Desktop/accruals.xlsx\",index_col=0,sheet_name=\"accrual\")\n",
    "abaccrual=pd.read_excel(\"C:/Users/suzuha/Desktop/accruals.xlsx\",index_col=0,sheet_name=\"abaccrual\")\n",
    "normaccrual=pd.read_excel(\"C:/Users/suzuha/Desktop/accruals.xlsx\",index_col=0,sheet_name=\"normaccrual\")"
   ]
  },
  {
   "cell_type": "code",
   "execution_count": 3,
   "metadata": {},
   "outputs": [],
   "source": [
    "cn_roe_data_flat=pd.Series(cn_roe_data.values.flatten()[~np.isnan(cn_roe_data.values.flatten())])/100\n",
    "us_roe_data_flat=pd.Series(us_roe_data.values.flatten()[~np.isnan(us_roe_data.values.flatten())])/100\n",
    "cn_firm_years=cn_roe_data_flat.notna().sum()\n",
    "us_firm_years=us_roe_data_flat.notna().sum()"
   ]
  },
  {
   "cell_type": "code",
   "execution_count": 4,
   "metadata": {},
   "outputs": [
    {
     "data": {
      "text/plain": [
       "<matplotlib.lines.Line2D at 0x1d62d4d84f0>"
      ]
     },
     "execution_count": 4,
     "metadata": {},
     "output_type": "execute_result"
    },
    {
     "data": {
      "image/png": "[encoded data removed]",
      "text/plain": [
       "<Figure size 432x288 with 1 Axes>"
      ]
     },
     "metadata": {
      "needs_background": "light"
     },
     "output_type": "display_data"
    }
   ],
   "source": [
    "plot_data=cn_roe_data_flat[(cn_roe_data_flat.abs()<0.5)&(cn_roe_data_flat!=0)]\n",
    "plt.hist(plot_data,bins=int((plot_data.max()-plot_data.min())/0.005),\n",
    "        weights = np.zeros_like(plot_data)+100/len(plot_data))\n",
    "plt.xlim(-0.5,0.5)\n",
    "plt.annotate(\"ROE=0\",(0.05,0.05),c=\"r\")\n",
    "plt.axvline(x=0,c=\"r\")"
   ]
  },
  {
   "cell_type": "code",
   "execution_count": 5,
   "metadata": {},
   "outputs": [
    {
     "data": {
      "text/plain": [
       "<matplotlib.lines.Line2D at 0x1d62cdc39a0>"
      ]
     },
     "execution_count": 5,
     "metadata": {},
     "output_type": "execute_result"
    },
    {
     "data": {
      "image/png": "[encoded data removed]",
      "text/plain": [
       "<Figure size 432x288 with 1 Axes>"
      ]
     },
     "metadata": {
      "needs_background": "light"
     },
     "output_type": "display_data"
    }
   ],
   "source": [
    "plot_data=us_roe_data_flat[(us_roe_data_flat.abs()<0.5)&(us_roe_data_flat!=0)]\n",
    "plt.hist(plot_data,bins=int((plot_data.max()-plot_data.min())/0.005),\n",
    "        weights = np.zeros_like(plot_data)+100/len(plot_data))\n",
    "plt.xlim(-0.5,0.5)\n",
    "plt.annotate(\"ROE=0\",(0.05,0.05),c=\"r\")\n",
    "plt.axvline(x=0,c=\"r\")"
   ]
  },
  {
   "cell_type": "code",
   "execution_count": 6,
   "metadata": {},
   "outputs": [],
   "source": [
    "flat_data=pd.DataFrame({\"accrual\":accrual.values.flatten(),\n",
    "            \"abaccrual\":abaccrual.values.flatten(),\n",
    "            \"normaccrual\":normaccrual.values.flatten(),\n",
    "            \"roe\":cn_roe_data.values.flatten()/100,\n",
    "            \"mkt_size\":cn_stk_mkt.values.flatten(),\n",
    "            \"amkt_size\":cn_ashare_mkt.values.flatten(),\n",
    "            \"stk_return\":cn_stk_return.values.flatten(),\n",
    "            \"id_mkt\":np.nan,\n",
    "            \"id_accrual\":np.nan,\n",
    "            \"id_normaccrual\":np.nan,\n",
    "            \"group_mkt\":np.nan,\n",
    "            \"group_accrual\":np.nan,\n",
    "            \"group_normaccrual\":np.nan,\n",
    "            })\n",
    "flat_data.loc[flat_data.stk_return==0,\"stk_return\"]=np.nan\n",
    "flat_data=flat_data.dropna(subset=\"stk_return\").reset_index(drop=True)"
   ]
  },
  {
   "cell_type": "code",
   "execution_count": 11,
   "metadata": {},
   "outputs": [],
   "source": [
    "flat_data.loc[flat_data.sort_values(by=\"accrual\").reset_index()[\"index\"],\"id_accrual\"]=\\\n",
    "    flat_data.sort_values(by=\"accrual\").reset_index().index\n",
    "flat_data.loc[flat_data.sort_values(by=\"normaccrual\").reset_index()[\"index\"],\"id_normaccrual\"]=\\\n",
    "    flat_data.sort_values(by=\"normaccrual\").reset_index().index\n",
    "flat_data.loc[flat_data.sort_values(by=\"mkt_size\").reset_index()[\"index\"],\"id_mkt\"]=\\\n",
    "    flat_data.sort_values(by=\"mkt_size\").reset_index().index"
   ]
  },
  {
   "cell_type": "code",
   "execution_count": 12,
   "metadata": {},
   "outputs": [],
   "source": [
    "step=len(flat_data)/10\n",
    "flat_data.group_accrual=(flat_data.id_accrual/step).astype(\"int\")+1\n",
    "flat_data.group_normaccrual=(flat_data.id_normaccrual/step).astype(\"int\")+1\n",
    "flat_data.group_mkt=(flat_data.id_mkt/step).astype(\"int\")+1"
   ]
  },
  {
   "cell_type": "code",
   "execution_count": 13,
   "metadata": {},
   "outputs": [],
   "source": [
    "flat_data[\"SAR\"]=flat_data.stk_return-flat_data.groupby(\"group_mkt\").stk_return.mean().loc[flat_data[\"group_mkt\"]].reset_index(drop=True)"
   ]
  },
  {
   "cell_type": "code",
   "execution_count": 14,
   "metadata": {},
   "outputs": [],
   "source": [
    "table3=pd.DataFrame({\"Portfolio accrual ranking\":[\"Lowest\",2,3,4,5,6,7,8,9,\"Highest\",\"Hedge\"],\n",
    "                    \"N\":flat_data.groupby(\"group_accrual\").stk_return.count().reset_index(drop=True),\n",
    "                    \"Size-adjusted returns\":flat_data.groupby(\"group_accrual\").SAR.mean().reset_index(drop=True),\n",
    "                    },index=list(range(11)))"
   ]
  },
  {
   "cell_type": "code",
   "execution_count": 15,
   "metadata": {},
   "outputs": [],
   "source": [
    "#建立加权平均函数\n",
    "def wavg(group, avg_name, weight_name):\n",
    "    d = group[avg_name]\n",
    "    w = group[weight_name]\n",
    "    try:\n",
    "        return ((d*w).sum()/w.sum())\n",
    "    except ZeroDivisionError:\n",
    "        return d.mean()"
   ]
  },
  {
   "cell_type": "code",
   "execution_count": 16,
   "metadata": {},
   "outputs": [],
   "source": [
    "table3[\"MAR1\"]=flat_data.groupby(\"group_accrual\").stk_return.mean().reset_index(drop=True)\n",
    "table3[\"MAR2\"]=flat_data.groupby(\"group_accrual\").agg(wavg,\"SAR\",\"mkt_size\").stk_return.reset_index(drop=True)\n",
    "table3[\"MAR3\"]=flat_data.groupby(\"group_accrual\").agg(wavg,\"SAR\",\"amkt_size\").stk_return.reset_index(drop=True)\n",
    "table3.iloc[10,2:]=table3.iloc[9,2:]-table3.iloc[0,2:]"
   ]
  },
  {
   "cell_type": "code",
   "execution_count": 17,
   "metadata": {},
   "outputs": [],
   "source": [
    "table8=pd.DataFrame({\"Portfolio accrual ranking\":[\"Lowest\",2,3,4,5,6,7,8,9,\"Highest\",\"Hedge\"],\n",
    "                    \"N\":flat_data.groupby(\"group_normaccrual\").stk_return.count().reset_index(drop=True),\n",
    "                    \"Size-adjusted returns\":flat_data.groupby(\"group_normaccrual\").SAR.mean().reset_index(drop=True),\n",
    "                    },index=list(range(11)))"
   ]
  },
  {
   "cell_type": "code",
   "execution_count": 18,
   "metadata": {},
   "outputs": [],
   "source": [
    "table8[\"MAR1\"]=flat_data.groupby(\"group_normaccrual\").stk_return.mean().reset_index(drop=True)\n",
    "table8[\"MAR2\"]=flat_data.groupby(\"group_normaccrual\").agg(wavg,\"SAR\",\"mkt_size\").stk_return.reset_index(drop=True)\n",
    "table8[\"MAR3\"]=flat_data.groupby(\"group_normaccrual\").agg(wavg,\"SAR\",\"amkt_size\").stk_return.reset_index(drop=True)\n",
    "table8.iloc[10,2:]=table3.iloc[9,2:]-table3.iloc[0,2:]"
   ]
  }
 ],
 "metadata": {
  "kernelspec": {
   "display_name": "Python 3.9.12 ('base')",
   "language": "python",
   "name": "python3"
  },
  "language_info": {
   "codemirror_mode": {
    "name": "ipython",
    "version": 3
   },
   "file_extension": ".py",
   "mimetype": "text/x-python",
   "name": "python",
   "nbconvert_exporter": "python",
   "pygments_lexer": "ipython3",
   "version": "3.9.12"
  },
  "orig_nbformat": 4,
  "vscode": {
   "interpreter": {
    "hash": "6630a0be091535f92261ac4f1a61581dafb49c0e04c2a9569482f5c32dde038c"
   }
  }
 },
 "nbformat": 4,
 "nbformat_minor": 2
}
